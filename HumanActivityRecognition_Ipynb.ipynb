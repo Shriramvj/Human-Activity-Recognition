{
  "cells": [
    {
      "cell_type": "code",
      "execution_count": 1,
      "metadata": {
        "id": "2wpfcsi1tWHt"
      },
      "outputs": [],
      "source": [
        "import pandas as pd\n",
        "import numpy as np\n",
        "import matplotlib.pyplot as plt\n",
        "import seaborn as sns\n",
        "from sklearn.model_selection import train_test_split\n",
        "from sklearn.preprocessing import StandardScaler\n",
        "from sklearn.preprocessing import LabelEncoder\n",
        "from sklearn.decomposition import PCA\n",
        "from sklearn.ensemble import RandomForestClassifier\n",
        "from sklearn.feature_selection import SelectFromModel\n",
        "from tqdm import tqdm"
      ]
    },
    {
      "cell_type": "code",
      "execution_count": 2,
      "metadata": {
        "id": "jjeUu8_o52uW",
        "colab": {
          "base_uri": "https://localhost:8080/",
          "height": 179
        },
        "outputId": "76efc78b-257b-4bb8-b3e4-95cc14e8787f"
      },
      "outputs": [
        {
          "output_type": "display_data",
          "data": {
            "text/plain": [
              "<IPython.core.display.HTML object>"
            ],
            "text/html": [
              "\n",
              "     <input type=\"file\" id=\"files-f15ff6aa-fdd2-4fe8-8a80-e145f301e298\" name=\"files[]\" multiple disabled\n",
              "        style=\"border:none\" />\n",
              "     <output id=\"result-f15ff6aa-fdd2-4fe8-8a80-e145f301e298\">\n",
              "      Upload widget is only available when the cell has been executed in the\n",
              "      current browser session. Please rerun this cell to enable.\n",
              "      </output>\n",
              "      <script>// Copyright 2017 Google LLC\n",
              "//\n",
              "// Licensed under the Apache License, Version 2.0 (the \"License\");\n",
              "// you may not use this file except in compliance with the License.\n",
              "// You may obtain a copy of the License at\n",
              "//\n",
              "//      http://www.apache.org/licenses/LICENSE-2.0\n",
              "//\n",
              "// Unless required by applicable law or agreed to in writing, software\n",
              "// distributed under the License is distributed on an \"AS IS\" BASIS,\n",
              "// WITHOUT WARRANTIES OR CONDITIONS OF ANY KIND, either express or implied.\n",
              "// See the License for the specific language governing permissions and\n",
              "// limitations under the License.\n",
              "\n",
              "/**\n",
              " * @fileoverview Helpers for google.colab Python module.\n",
              " */\n",
              "(function(scope) {\n",
              "function span(text, styleAttributes = {}) {\n",
              "  const element = document.createElement('span');\n",
              "  element.textContent = text;\n",
              "  for (const key of Object.keys(styleAttributes)) {\n",
              "    element.style[key] = styleAttributes[key];\n",
              "  }\n",
              "  return element;\n",
              "}\n",
              "\n",
              "// Max number of bytes which will be uploaded at a time.\n",
              "const MAX_PAYLOAD_SIZE = 100 * 1024;\n",
              "\n",
              "function _uploadFiles(inputId, outputId) {\n",
              "  const steps = uploadFilesStep(inputId, outputId);\n",
              "  const outputElement = document.getElementById(outputId);\n",
              "  // Cache steps on the outputElement to make it available for the next call\n",
              "  // to uploadFilesContinue from Python.\n",
              "  outputElement.steps = steps;\n",
              "\n",
              "  return _uploadFilesContinue(outputId);\n",
              "}\n",
              "\n",
              "// This is roughly an async generator (not supported in the browser yet),\n",
              "// where there are multiple asynchronous steps and the Python side is going\n",
              "// to poll for completion of each step.\n",
              "// This uses a Promise to block the python side on completion of each step,\n",
              "// then passes the result of the previous step as the input to the next step.\n",
              "function _uploadFilesContinue(outputId) {\n",
              "  const outputElement = document.getElementById(outputId);\n",
              "  const steps = outputElement.steps;\n",
              "\n",
              "  const next = steps.next(outputElement.lastPromiseValue);\n",
              "  return Promise.resolve(next.value.promise).then((value) => {\n",
              "    // Cache the last promise value to make it available to the next\n",
              "    // step of the generator.\n",
              "    outputElement.lastPromiseValue = value;\n",
              "    return next.value.response;\n",
              "  });\n",
              "}\n",
              "\n",
              "/**\n",
              " * Generator function which is called between each async step of the upload\n",
              " * process.\n",
              " * @param {string} inputId Element ID of the input file picker element.\n",
              " * @param {string} outputId Element ID of the output display.\n",
              " * @return {!Iterable<!Object>} Iterable of next steps.\n",
              " */\n",
              "function* uploadFilesStep(inputId, outputId) {\n",
              "  const inputElement = document.getElementById(inputId);\n",
              "  inputElement.disabled = false;\n",
              "\n",
              "  const outputElement = document.getElementById(outputId);\n",
              "  outputElement.innerHTML = '';\n",
              "\n",
              "  const pickedPromise = new Promise((resolve) => {\n",
              "    inputElement.addEventListener('change', (e) => {\n",
              "      resolve(e.target.files);\n",
              "    });\n",
              "  });\n",
              "\n",
              "  const cancel = document.createElement('button');\n",
              "  inputElement.parentElement.appendChild(cancel);\n",
              "  cancel.textContent = 'Cancel upload';\n",
              "  const cancelPromise = new Promise((resolve) => {\n",
              "    cancel.onclick = () => {\n",
              "      resolve(null);\n",
              "    };\n",
              "  });\n",
              "\n",
              "  // Wait for the user to pick the files.\n",
              "  const files = yield {\n",
              "    promise: Promise.race([pickedPromise, cancelPromise]),\n",
              "    response: {\n",
              "      action: 'starting',\n",
              "    }\n",
              "  };\n",
              "\n",
              "  cancel.remove();\n",
              "\n",
              "  // Disable the input element since further picks are not allowed.\n",
              "  inputElement.disabled = true;\n",
              "\n",
              "  if (!files) {\n",
              "    return {\n",
              "      response: {\n",
              "        action: 'complete',\n",
              "      }\n",
              "    };\n",
              "  }\n",
              "\n",
              "  for (const file of files) {\n",
              "    const li = document.createElement('li');\n",
              "    li.append(span(file.name, {fontWeight: 'bold'}));\n",
              "    li.append(span(\n",
              "        `(${file.type || 'n/a'}) - ${file.size} bytes, ` +\n",
              "        `last modified: ${\n",
              "            file.lastModifiedDate ? file.lastModifiedDate.toLocaleDateString() :\n",
              "                                    'n/a'} - `));\n",
              "    const percent = span('0% done');\n",
              "    li.appendChild(percent);\n",
              "\n",
              "    outputElement.appendChild(li);\n",
              "\n",
              "    const fileDataPromise = new Promise((resolve) => {\n",
              "      const reader = new FileReader();\n",
              "      reader.onload = (e) => {\n",
              "        resolve(e.target.result);\n",
              "      };\n",
              "      reader.readAsArrayBuffer(file);\n",
              "    });\n",
              "    // Wait for the data to be ready.\n",
              "    let fileData = yield {\n",
              "      promise: fileDataPromise,\n",
              "      response: {\n",
              "        action: 'continue',\n",
              "      }\n",
              "    };\n",
              "\n",
              "    // Use a chunked sending to avoid message size limits. See b/62115660.\n",
              "    let position = 0;\n",
              "    do {\n",
              "      const length = Math.min(fileData.byteLength - position, MAX_PAYLOAD_SIZE);\n",
              "      const chunk = new Uint8Array(fileData, position, length);\n",
              "      position += length;\n",
              "\n",
              "      const base64 = btoa(String.fromCharCode.apply(null, chunk));\n",
              "      yield {\n",
              "        response: {\n",
              "          action: 'append',\n",
              "          file: file.name,\n",
              "          data: base64,\n",
              "        },\n",
              "      };\n",
              "\n",
              "      let percentDone = fileData.byteLength === 0 ?\n",
              "          100 :\n",
              "          Math.round((position / fileData.byteLength) * 100);\n",
              "      percent.textContent = `${percentDone}% done`;\n",
              "\n",
              "    } while (position < fileData.byteLength);\n",
              "  }\n",
              "\n",
              "  // All done.\n",
              "  yield {\n",
              "    response: {\n",
              "      action: 'complete',\n",
              "    }\n",
              "  };\n",
              "}\n",
              "\n",
              "scope.google = scope.google || {};\n",
              "scope.google.colab = scope.google.colab || {};\n",
              "scope.google.colab._files = {\n",
              "  _uploadFiles,\n",
              "  _uploadFilesContinue,\n",
              "};\n",
              "})(self);\n",
              "</script> "
            ]
          },
          "metadata": {}
        },
        {
          "output_type": "stream",
          "name": "stdout",
          "text": [
            "Saving X_test.txt to X_test.txt\n",
            "Saving X_train.txt to X_train.txt\n",
            "Saving y_test.txt to y_test.txt\n",
            "Saving y_train.txt to y_train.txt\n"
          ]
        }
      ],
      "source": [
        "# Upload the required files\n",
        "from google.colab import files\n",
        "files.upload()"
      ]
    },
    {
      "cell_type": "code",
      "execution_count": 3,
      "metadata": {
        "id": "coiqkSmRvRRM"
      },
      "outputs": [],
      "source": [
        "# Load the training set with a regular expression delimiter\n",
        "X_train_raw = pd.read_csv('/content/X_train.txt', delimiter=r'\\s+', header=None, engine='python')\n",
        "y_train_raw = pd.read_csv('/content/y_train.txt', header=None, names=['activity'])"
      ]
    },
    {
      "cell_type": "code",
      "source": [
        "X_test_raw = pd.read_csv('/content/X_test.txt', delimiter=r'\\s+', header=None, engine='python')\n",
        "y_test_raw = pd.read_csv('/content/y_test.txt', header=None, names=['activity'])"
      ],
      "metadata": {
        "id": "ucJi8ubW4pzK"
      },
      "execution_count": 4,
      "outputs": []
    },
    {
      "cell_type": "code",
      "execution_count": 5,
      "metadata": {
        "id": "WVKbkcv51l63",
        "colab": {
          "base_uri": "https://localhost:8080/"
        },
        "outputId": "21ecb3c7-4d97-481f-b60c-4595b0b9b934"
      },
      "outputs": [
        {
          "output_type": "stream",
          "name": "stdout",
          "text": [
            "Missing values in X_train: 0\n",
            "Missing values in y_train: 0\n",
            "Missing values in X_test: 0\n",
            "Missing values in y_test: 0\n"
          ]
        }
      ],
      "source": [
        "# Check for missing values\n",
        "print(\"Missing values in X_train:\", X_train_raw.isnull().sum().sum())\n",
        "print(\"Missing values in y_train:\", y_train_raw.isnull().sum().sum())\n",
        "\n",
        "print(\"Missing values in X_test:\", X_test_raw.isnull().sum().sum())\n",
        "print(\"Missing values in y_test:\", y_test_raw.isnull().sum().sum())"
      ]
    },
    {
      "cell_type": "markdown",
      "source": [
        "EDA AND VISUALIZATIONS"
      ],
      "metadata": {
        "id": "11EnHry_0ib_"
      }
    },
    {
      "cell_type": "code",
      "execution_count": 6,
      "metadata": {
        "colab": {
          "base_uri": "https://localhost:8080/",
          "height": 533
        },
        "id": "YrNewqQTe-RH",
        "outputId": "3bcaa44f-cee7-422c-ff67-b4c46c6569b9"
      },
      "outputs": [
        {
          "output_type": "display_data",
          "data": {
            "text/plain": [
              "<Figure size 640x480 with 1 Axes>"
            ],
            "image/png": "[encoded data removed]"
          },
          "metadata": {}
        }
      ],
      "source": [
        "activity_labels = {0: 'WALKING', 1: 'WALKING_UPSTAIRS', 2: 'WALKING_DOWNSTAIRS', 3: 'SITTING', 4: 'STANDING', 5: 'LAYING'}\n",
        "y_train_plot = y_train_raw.copy()\n",
        "y_train_plot = y_train_plot['activity'].map(activity_labels)\n",
        "\n",
        "plt.title(\"Barplot of Activity (training data)\")\n",
        "sns.barplot(y = y_train_plot.value_counts().values , x = y_train_plot.value_counts().index)\n",
        "plt.xticks(rotation = 30)\n",
        "plt.show()"
      ]
    },
    {
      "cell_type": "code",
      "source": [
        "activity_labels = {0: 'WALKING', 1: 'WALKING_UPSTAIRS', 2: 'WALKING_DOWNSTAIRS', 3: 'SITTING', 4: 'STANDING', 5: 'LAYING'}\n",
        "y_test_plot = y_test_raw.copy()\n",
        "y_test_plot = y_test_plot['activity'].map(activity_labels)\n",
        "\n",
        "plt.title(\"Barplot of Activity (test data)\")\n",
        "sns.barplot(y = y_test_plot.value_counts().values , x = y_test_plot.value_counts().index)\n",
        "plt.xticks(rotation = 30)\n",
        "plt.show()"
      ],
      "metadata": {
        "colab": {
          "base_uri": "https://localhost:8080/",
          "height": 533
        },
        "id": "M_zSQAAW48td",
        "outputId": "3b914d3e-c645-4748-f7e4-68800edc653e"
      },
      "execution_count": 7,
      "outputs": [
        {
          "output_type": "display_data",
          "data": {
            "text/plain": [
              "<Figure size 640x480 with 1 Axes>"
            ],
            "image/png": "[encoded data removed]"
          },
          "metadata": {}
        }
      ]
    },
    {
      "cell_type": "code",
      "execution_count": 8,
      "metadata": {
        "id": "vasdrVyJ1tP2"
      },
      "outputs": [],
      "source": [
        "# Encode activity labels\n",
        "label_encoder = LabelEncoder()\n",
        "y_train_raw = pd.DataFrame(label_encoder.fit_transform(y_train_raw['activity']))\n",
        "y_test_raw = pd.DataFrame(label_encoder.fit_transform(y_test_raw['activity']))"
      ]
    },
    {
      "cell_type": "code",
      "execution_count": 9,
      "metadata": {
        "colab": {
          "base_uri": "https://localhost:8080/"
        },
        "id": "tgmlkixQ0gj_",
        "outputId": "a071f440-939f-48e7-adca-2bb41ba79f04"
      },
      "outputs": [
        {
          "output_type": "stream",
          "name": "stdout",
          "text": [
            "X_train shape: (7352, 561)\n",
            "y_train shape: (7352, 1)\n",
            "X_test shape: (2947, 561)\n",
            "y_test shape: (2947, 1)\n"
          ]
        }
      ],
      "source": [
        "# Display the first few rows of the loaded data\n",
        "print(\"X_train shape:\", X_train_raw.shape)\n",
        "print(\"y_train shape:\", y_train_raw.shape)\n",
        "\n",
        "print(\"X_test shape:\", X_test_raw.shape)\n",
        "print(\"y_test shape:\", y_test_raw.shape)"
      ]
    },
    {
      "cell_type": "code",
      "source": [
        "# Shape of the dataset\n",
        "print(X_train_raw.shape)\n",
        "\n",
        "# Data types\n",
        "print(X_train_raw.dtypes)\n",
        "\n",
        "# Display first few rows\n",
        "print(X_train_raw.head())\n"
      ],
      "metadata": {
        "colab": {
          "base_uri": "https://localhost:8080/"
        },
        "id": "V7afNKNC7kPP",
        "outputId": "228a25df-462b-458c-beaa-439eb2d93fa7"
      },
      "execution_count": 10,
      "outputs": [
        {
          "output_type": "stream",
          "name": "stdout",
          "text": [
            "(7352, 561)\n",
            "0      float64\n",
            "1      float64\n",
            "2      float64\n",
            "3      float64\n",
            "4      float64\n",
            "        ...   \n",
            "556    float64\n",
            "557    float64\n",
            "558    float64\n",
            "559    float64\n",
            "560    float64\n",
            "Length: 561, dtype: object\n",
            "        0         1         2         3         4         5         6    \\\n",
            "0  0.288585 -0.020294 -0.132905 -0.995279 -0.983111 -0.913526 -0.995112   \n",
            "1  0.278419 -0.016411 -0.123520 -0.998245 -0.975300 -0.960322 -0.998807   \n",
            "2  0.279653 -0.019467 -0.113462 -0.995380 -0.967187 -0.978944 -0.996520   \n",
            "3  0.279174 -0.026201 -0.123283 -0.996091 -0.983403 -0.990675 -0.997099   \n",
            "4  0.276629 -0.016570 -0.115362 -0.998139 -0.980817 -0.990482 -0.998321   \n",
            "\n",
            "        7         8         9    ...       551       552       553       554  \\\n",
            "0 -0.983185 -0.923527 -0.934724  ... -0.074323 -0.298676 -0.710304 -0.112754   \n",
            "1 -0.974914 -0.957686 -0.943068  ...  0.158075 -0.595051 -0.861499  0.053477   \n",
            "2 -0.963668 -0.977469 -0.938692  ...  0.414503 -0.390748 -0.760104 -0.118559   \n",
            "3 -0.982750 -0.989302 -0.938692  ...  0.404573 -0.117290 -0.482845 -0.036788   \n",
            "4 -0.979672 -0.990441 -0.942469  ...  0.087753 -0.351471 -0.699205  0.123320   \n",
            "\n",
            "        555       556       557       558       559       560  \n",
            "0  0.030400 -0.464761 -0.018446 -0.841247  0.179941 -0.058627  \n",
            "1 -0.007435 -0.732626  0.703511 -0.844788  0.180289 -0.054317  \n",
            "2  0.177899  0.100699  0.808529 -0.848933  0.180637 -0.049118  \n",
            "3 -0.012892  0.640011 -0.485366 -0.848649  0.181935 -0.047663  \n",
            "4  0.122542  0.693578 -0.615971 -0.847865  0.185151 -0.043892  \n",
            "\n",
            "[5 rows x 561 columns]\n"
          ]
        }
      ]
    },
    {
      "cell_type": "code",
      "execution_count": 11,
      "metadata": {
        "colab": {
          "base_uri": "https://localhost:8080/"
        },
        "id": "m8gre-suyUlC",
        "outputId": "a0bb966a-3e3c-40c1-fc6b-f40c81c687d9"
      },
      "outputs": [
        {
          "output_type": "stream",
          "name": "stdout",
          "text": [
            "               0            1            2            3            4    \\\n",
            "count  7352.000000  7352.000000  7352.000000  7352.000000  7352.000000   \n",
            "mean      0.274488    -0.017695    -0.109141    -0.605438    -0.510938   \n",
            "std       0.070261     0.040811     0.056635     0.448734     0.502645   \n",
            "min      -1.000000    -1.000000    -1.000000    -1.000000    -0.999873   \n",
            "25%       0.262975    -0.024863    -0.120993    -0.992754    -0.978129   \n",
            "50%       0.277193    -0.017219    -0.108676    -0.946196    -0.851897   \n",
            "75%       0.288461    -0.010783    -0.097794    -0.242813    -0.034231   \n",
            "max       1.000000     1.000000     1.000000     1.000000     0.916238   \n",
            "\n",
            "               5            6            7            8            9    ...  \\\n",
            "count  7352.000000  7352.000000  7352.000000  7352.000000  7352.000000  ...   \n",
            "mean     -0.604754    -0.630512    -0.526907    -0.606150    -0.468604  ...   \n",
            "std       0.418687     0.424073     0.485942     0.414122     0.544547  ...   \n",
            "min      -1.000000    -1.000000    -1.000000    -1.000000    -1.000000  ...   \n",
            "25%      -0.980233    -0.993591    -0.978162    -0.980251    -0.936219  ...   \n",
            "50%      -0.859365    -0.950709    -0.857328    -0.857143    -0.881637  ...   \n",
            "75%      -0.262415    -0.292680    -0.066701    -0.265671    -0.017129  ...   \n",
            "max       1.000000     1.000000     0.967664     1.000000     1.000000  ...   \n",
            "\n",
            "               551          552          553          554          555  \\\n",
            "count  7352.000000  7352.000000  7352.000000  7352.000000  7352.000000   \n",
            "mean      0.125293    -0.307009    -0.625294     0.008684     0.002186   \n",
            "std       0.250994     0.321011     0.307584     0.336787     0.448306   \n",
            "min      -1.000000    -0.995357    -0.999765    -0.976580    -1.000000   \n",
            "25%      -0.023692    -0.542602    -0.845573    -0.121527    -0.289549   \n",
            "50%       0.134000    -0.343685    -0.711692     0.009509     0.008943   \n",
            "75%       0.289096    -0.126979    -0.503878     0.150865     0.292861   \n",
            "max       0.946700     0.989538     0.956845     1.000000     1.000000   \n",
            "\n",
            "               556          557          558          559          560  \n",
            "count  7352.000000  7352.000000  7352.000000  7352.000000  7352.000000  \n",
            "mean      0.008726    -0.005981    -0.489547     0.058593    -0.056515  \n",
            "std       0.608303     0.477975     0.511807     0.297480     0.279122  \n",
            "min      -1.000000    -1.000000    -1.000000    -1.000000    -1.000000  \n",
            "25%      -0.482273    -0.376341    -0.812065    -0.017885    -0.143414  \n",
            "50%       0.008735    -0.000368    -0.709417     0.182071     0.003181  \n",
            "75%       0.506187     0.359368    -0.509079     0.248353     0.107659  \n",
            "max       0.998702     0.996078     1.000000     0.478157     1.000000  \n",
            "\n",
            "[8 rows x 561 columns]\n",
            "<class 'pandas.core.frame.DataFrame'>\n",
            "RangeIndex: 7352 entries, 0 to 7351\n",
            "Columns: 561 entries, 0 to 560\n",
            "dtypes: float64(561)\n",
            "memory usage: 31.5 MB\n",
            "None\n"
          ]
        }
      ],
      "source": [
        "# Basic statistics and information about the dataset\n",
        "print(X_train_raw.describe())\n",
        "print(X_train_raw.info())"
      ]
    },
    {
      "cell_type": "code",
      "source": [
        "print(X_test_raw.describe())\n",
        "print(X_test_raw.info())"
      ],
      "metadata": {
        "colab": {
          "base_uri": "https://localhost:8080/"
        },
        "id": "9fJlptTp5Xe3",
        "outputId": "cc726fc5-ffc4-4074-8a0e-778c89d01ea1"
      },
      "execution_count": 12,
      "outputs": [
        {
          "output_type": "stream",
          "name": "stdout",
          "text": [
            "               0            1            2            3            4    \\\n",
            "count  2947.000000  2947.000000  2947.000000  2947.000000  2947.000000   \n",
            "mean      0.273996    -0.017863    -0.108386    -0.613635    -0.508330   \n",
            "std       0.060570     0.025745     0.042747     0.412597     0.494269   \n",
            "min      -0.592004    -0.362884    -0.576184    -0.999606    -1.000000   \n",
            "25%       0.262075    -0.024961    -0.121162    -0.990914    -0.973664   \n",
            "50%       0.277113    -0.016967    -0.108458    -0.931214    -0.790972   \n",
            "75%       0.288097    -0.010143    -0.097123    -0.267395    -0.105919   \n",
            "max       0.671887     0.246106     0.494114     0.465299     1.000000   \n",
            "\n",
            "               5            6            7            8            9    ...  \\\n",
            "count  2947.000000  2947.000000  2947.000000  2947.000000  2947.000000  ...   \n",
            "mean     -0.633797    -0.641278    -0.522676    -0.637038    -0.462063  ...   \n",
            "std       0.362699     0.385199     0.479899     0.357753     0.523916  ...   \n",
            "min      -0.998955    -0.999417    -0.999914    -0.998899    -0.952357  ...   \n",
            "25%      -0.976122    -0.992333    -0.974131    -0.975352    -0.934447  ...   \n",
            "50%      -0.827534    -0.937664    -0.799907    -0.817005    -0.852659  ...   \n",
            "75%      -0.311432    -0.321719    -0.133488    -0.322771    -0.009965  ...   \n",
            "max       0.489703     0.439657     1.000000     0.427958     0.786436  ...   \n",
            "\n",
            "               551          552          553          554          555  \\\n",
            "count  2947.000000  2947.000000  2947.000000  2947.000000  2947.000000   \n",
            "mean      0.130236    -0.277593    -0.598756     0.005264     0.003799   \n",
            "std       0.231018     0.317245     0.311042     0.336147     0.445077   \n",
            "min      -0.785543    -1.000000    -1.000000    -1.000000    -0.993402   \n",
            "25%      -0.008433    -0.517494    -0.829593    -0.130541    -0.282600   \n",
            "50%       0.142676    -0.311023    -0.683672     0.005188     0.006767   \n",
            "75%       0.288320    -0.083559    -0.458332     0.146200     0.288113   \n",
            "max       1.000000     1.000000     1.000000     0.998898     0.986347   \n",
            "\n",
            "               556          557          558          559          560  \n",
            "count  2947.000000  2947.000000  2947.000000  2947.000000  2947.000000  \n",
            "mean      0.040029    -0.017298    -0.513923     0.074886    -0.048720  \n",
            "std       0.634989     0.501311     0.509205     0.324300     0.241467  \n",
            "min      -0.998898    -0.991096    -0.984195    -0.913704    -0.949228  \n",
            "25%      -0.518924    -0.428375    -0.829722     0.022140    -0.098485  \n",
            "50%       0.047113    -0.026726    -0.729648     0.181563    -0.010671  \n",
            "75%       0.622151     0.394387    -0.545939     0.260252     0.092373  \n",
            "max       1.000000     1.000000     0.833180     1.000000     0.973113  \n",
            "\n",
            "[8 rows x 561 columns]\n",
            "<class 'pandas.core.frame.DataFrame'>\n",
            "RangeIndex: 2947 entries, 0 to 2946\n",
            "Columns: 561 entries, 0 to 560\n",
            "dtypes: float64(561)\n",
            "memory usage: 12.6 MB\n",
            "None\n"
          ]
        }
      ]
    },
    {
      "cell_type": "code",
      "source": [
        "# Percentage of missing values\n",
        "missing_percentage = X_train_raw.isnull().sum() * 100 / len(X_train_raw)\n",
        "print(missing_percentage)\n"
      ],
      "metadata": {
        "colab": {
          "base_uri": "https://localhost:8080/"
        },
        "id": "pZwFkR9K7tCh",
        "outputId": "dd7453a1-bdf0-49f2-811d-2ed31179a9e3"
      },
      "execution_count": 13,
      "outputs": [
        {
          "output_type": "stream",
          "name": "stdout",
          "text": [
            "0      0.0\n",
            "1      0.0\n",
            "2      0.0\n",
            "3      0.0\n",
            "4      0.0\n",
            "      ... \n",
            "556    0.0\n",
            "557    0.0\n",
            "558    0.0\n",
            "559    0.0\n",
            "560    0.0\n",
            "Length: 561, dtype: float64\n"
          ]
        }
      ]
    },
    {
      "cell_type": "code",
      "source": [
        "# PCA for visualization (consider standardizing data first)\n",
        "pca = PCA(n_components=2)\n",
        "X_train_pca = pca.fit_transform(X_train_raw)\n",
        "plt.figure(figsize=(8, 6))\n",
        "plt.scatter(X_train_pca[:, 0], X_train_pca[:, 1])\n",
        "plt.xlabel('First principal component')\n",
        "plt.ylabel('Second principal component')\n",
        "plt.show()\n"
      ],
      "metadata": {
        "colab": {
          "base_uri": "https://localhost:8080/",
          "height": 542
        },
        "id": "jVs1f01n9xJL",
        "outputId": "f1eaefce-bf00-42e1-c65b-051c6b9f388c"
      },
      "execution_count": 14,
      "outputs": [
        {
          "output_type": "display_data",
          "data": {
            "text/plain": [
              "<Figure size 800x600 with 1 Axes>"
            ],
            "image/png": "[encoded data removed]"
          },
          "metadata": {}
        }
      ]
    },
    {
      "cell_type": "markdown",
      "source": [
        "The PCA graph shows a scatter plot of the dataset projected onto the first two principal components. These components are linear combinations of the original variables that capture the maximum variance within the data. The shape of the distribution suggests two or more subgroups within the dataset. The spread along the principal component axes indicates that these components explain a significant portion of the data's variability. The gap in the center hints at possible clustering, although the absence of clear separation between clusters may suggest complex underlying relationships that PCA, as a linear method, cannot fully disentangle. The presence of outliers, particularly towards the right side of the plot, could represent extreme cases or anomalies in the data. Overall, the PCA graph provides a visual summary of the data, highlighting potential patterns and areas for further investigation."
      ],
      "metadata": {
        "id": "p_D2qNyg-Rwj"
      }
    },
    {
      "cell_type": "code",
      "execution_count": 15,
      "metadata": {
        "id": "4BLaVv5Z0nxU"
      },
      "outputs": [],
      "source": [
        "# Standardize the features using StandardScaler\n",
        "scaler = StandardScaler()\n",
        "\n",
        "X_train_scaled = pd.DataFrame(scaler.fit_transform(X_train_raw))\n",
        "\n",
        "X_test_scaled = pd.DataFrame(scaler.fit_transform(X_test_raw))"
      ]
    },
    {
      "cell_type": "code",
      "execution_count": 16,
      "metadata": {
        "colab": {
          "base_uri": "https://localhost:8080/"
        },
        "id": "CIUBYzL600Ee",
        "outputId": "aa14d102-944a-469d-c18d-7b0ea0ca73ab"
      },
      "outputs": [
        {
          "output_type": "stream",
          "name": "stdout",
          "text": [
            "X_train_scaled shape: (7352, 561)\n",
            "X_val_scaled shape: (2947, 561)\n",
            "y_train shape: (7352, 1)\n",
            "y_val shape: (2947, 1)\n"
          ]
        }
      ],
      "source": [
        "# Display the shapes of the preprocessed data\n",
        "print(\"X_train_scaled shape:\", X_train_scaled.shape)\n",
        "print(\"X_val_scaled shape:\", X_test_scaled.shape)\n",
        "\n",
        "print(\"y_train shape:\", y_train_raw.shape)\n",
        "print(\"y_val shape:\", y_test_raw.shape)"
      ]
    },
    {
      "cell_type": "markdown",
      "source": [
        "## PCA"
      ],
      "metadata": {
        "id": "tp7mj9VC0Cyh"
      }
    },
    {
      "cell_type": "code",
      "execution_count": 18,
      "metadata": {
        "id": "sBiKW2yu-xGq"
      },
      "outputs": [],
      "source": [
        "# Importing the PCA class from scikit-learn's decomposition module\n",
        "from sklearn.decomposition import PCA\n",
        "\n",
        "# Creating a PCA object with the desired number of components to retain a specific amount of variance\n",
        "# In this case, n_components=0.95 means that the algorithm will keep enough principal components\n",
        "# to retain 95% of the variance in the data.\n",
        "pca = PCA(n_components=0.95)\n",
        "\n",
        "# Transforming the training data using PCA\n",
        "# X_train_scaled is assumed to be the training data that has been preprocessed or scaled before applying PCA.\n",
        "# The fit_transform method fits the PCA model to the training data and then transforms it.\n",
        "X_train_pca = pca.fit_transform(X_train_scaled)\n",
        "\n",
        "# Transforming the test data using the same PCA model\n",
        "# X_test_scaled is assumed to be the test data that has been preprocessed or scaled similarly to the training data.\n",
        "# The transform method applies the previously fitted PCA model to the test data.\n",
        "X_test_pca = pca.transform(X_test_scaled)\n"
      ]
    },
    {
      "cell_type": "markdown",
      "metadata": {
        "id": "vKlq-gvXA2h7"
      },
      "source": [
        "**MODELS**"
      ]
    },
    {
      "cell_type": "markdown",
      "source": [
        "1. Gaussian Naive Bayes"
      ],
      "metadata": {
        "id": "9rMRZv24liL-"
      }
    },
    {
      "cell_type": "markdown",
      "source": [
        "The Gaussian Naive Bayes algorithm is well-suited for Human Activity Recognition using Smartphones because it efficiently handles high-dimensional data like sensor readings. This algorithm assumes each feature is independent, simplifying calculations and making it ideal for large datasets. Gaussian Naive Bayes also works well with continuous data, typical in smartphone sensors. It provides a solid baseline for performance comparison with more complex models, making it a practical choice for initial classification tasks in this project."
      ],
      "metadata": {
        "id": "c7J7M2_6lCFG"
      }
    },
    {
      "cell_type": "code",
      "source": [
        "class GaussianNaiveBayes:\n",
        "    \"\"\"\n",
        "    Gaussian Naive Bayes classifier implementation.\n",
        "    This classifier assumes that the features follow a Gaussian distribution.\n",
        "    \"\"\"\n",
        "\n",
        "    def __init__(self, data, target):\n",
        "        \"\"\"\n",
        "        Constructor for the GaussianNaiveBayes class.\n",
        "\n",
        "        Parameters:\n",
        "        data (array-like): Features dataset. Can be a pandas DataFrame or numpy array.\n",
        "        target (array-like): Target variable (labels). Can be a pandas DataFrame/Series or numpy array.\n",
        "        \"\"\"\n",
        "        self.data = data\n",
        "        # Ensuring that the target is a 1D numpy array for compatibility.\n",
        "        self.target = target.values.flatten() if isinstance(target, (pd.DataFrame, pd.Series)) else target.flatten()\n",
        "\n",
        "    def gaussian(self, X, mean, std):\n",
        "        \"\"\"\n",
        "        Calculates the Gaussian probability distribution for each feature.\n",
        "\n",
        "        Parameters:\n",
        "        X (numpy array): Array of features.\n",
        "        mean (float): Mean of the feature.\n",
        "        std (float): Standard deviation of the feature.\n",
        "\n",
        "        Returns:\n",
        "        numpy array: Gaussian probabilities for the given feature.\n",
        "        \"\"\"\n",
        "        exponent = np.exp(-(X - mean)**2 / (2 * std**2))\n",
        "        return exponent / (np.sqrt(2 * np.pi) * std)\n",
        "\n",
        "    def gaussian_fit(self, X):\n",
        "        \"\"\"\n",
        "        Computes the mean and standard deviation for each feature in the dataset.\n",
        "\n",
        "        Parameters:\n",
        "        X (numpy array): Array of features.\n",
        "\n",
        "        Returns:\n",
        "        tuple: Mean and standard deviation of each feature.\n",
        "        \"\"\"\n",
        "        return X.mean(axis=0), X.std(axis=0)\n",
        "\n",
        "    def fit(self):\n",
        "        \"\"\"\n",
        "        Fits the Gaussian Naive Bayes model to the data.\n",
        "        This method computes the prior probabilities of the classes\n",
        "        and the mean and standard deviation of each feature for each class.\n",
        "        \"\"\"\n",
        "        unique_classes, counts = np.unique(self.target, return_counts=True)\n",
        "        self.classes = {label: idx for idx, label in enumerate(unique_classes)}\n",
        "        self.prior = counts / counts.sum()\n",
        "        self.pdf_data = {label: self.gaussian_fit(self.data[self.target == label]) for label in unique_classes}\n",
        "\n",
        "    def predict(self, X):\n",
        "        \"\"\"\n",
        "        Predicts the class labels for the given dataset.\n",
        "\n",
        "        Parameters:\n",
        "        X (numpy array): Array of features to predict.\n",
        "\n",
        "        Returns:\n",
        "        numpy array: Predicted class labels.\n",
        "        \"\"\"\n",
        "        y_pred = []\n",
        "        for x_data in X:\n",
        "            scores = {}\n",
        "            for label, idx in self.classes.items():\n",
        "                mean_list, std_list = self.pdf_data[label]\n",
        "                likelihood = np.prod(self.gaussian(x_data, mean_list, std_list))\n",
        "                posterior = likelihood * self.prior[idx]\n",
        "                scores[label] = posterior\n",
        "            y_pred.append(max(scores, key=scores.get))\n",
        "        return np.array(y_pred)\n",
        "\n",
        "    def compute_metrics(self, y_true, y_pred):\n",
        "        \"\"\"\n",
        "        Computes accuracy, macro precision, macro recall, and macro F1-score.\n",
        "\n",
        "        Parameters:\n",
        "        y_true (numpy array): True class labels.\n",
        "        y_pred (numpy array): Predicted class labels.\n",
        "\n",
        "        Returns:\n",
        "        dict: Dictionary containing accuracy, macro precision, recall, and F1 score.\n",
        "        \"\"\"\n",
        "        # Convert y_true and y_pred to numpy arrays for consistency\n",
        "        y_true = y_true.values.flatten() if isinstance(y_true, (pd.DataFrame, pd.Series)) else y_true.flatten()\n",
        "        y_pred = y_pred.values.flatten() if isinstance(y_pred, (pd.DataFrame, pd.Series)) else y_pred.flatten()\n",
        "\n",
        "        # Compute confusion matrix\n",
        "        unique_labels = np.unique(np.concatenate([y_true, y_pred]))\n",
        "        conf_matrix = np.zeros((len(unique_labels), len(unique_labels)), dtype=int)\n",
        "        label_to_index = {label: index for index, label in enumerate(unique_labels)}\n",
        "\n",
        "        for true, pred in zip(y_true, y_pred):\n",
        "            true_index = label_to_index[true]\n",
        "            pred_index = label_to_index[pred]\n",
        "            conf_matrix[true_index, pred_index] += 1\n",
        "\n",
        "        return self.calculate_overall_metrics(conf_matrix, unique_labels)\n",
        "\n",
        "    def calculate_overall_metrics(self, conf_matrix, unique_labels):\n",
        "        \"\"\"\n",
        "        Helper method to calculate overall metrics from the confusion matrix.\n",
        "\n",
        "        Parameters:\n",
        "        conf_matrix (numpy array): Confusion matrix.\n",
        "        unique_labels (numpy array): Array of unique labels.\n",
        "\n",
        "        Returns:\n",
        "        dict: Dictionary containing accuracy, macro precision, recall, and F1 score.\n",
        "        \"\"\"\n",
        "        sum_precision = 0\n",
        "        sum_recall = 0\n",
        "        sum_f1 = 0\n",
        "\n",
        "        for i in range(len(unique_labels)):\n",
        "            TP = conf_matrix[i, i]\n",
        "            FP = conf_matrix[:, i].sum() - TP\n",
        "            FN = conf_matrix[i, :].sum() - TP\n",
        "\n",
        "            Precision = TP / (TP + FP) if (TP + FP) != 0 else 0\n",
        "            Recall = TP / (TP + FN) if (TP + FN) != 0 else 0\n",
        "            F1_score = 2 * (Precision * Recall) / (Precision + Recall) if (Precision + Recall) != 0 else 0\n",
        "\n",
        "            sum_precision += Precision\n",
        "            sum_recall += Recall\n",
        "            sum_f1 += F1_score\n",
        "\n",
        "        macro_precision = sum_precision / len(unique_labels)\n",
        "        macro_recall = sum_recall / len(unique_labels)\n",
        "        macro_f1 = sum_f1 / len(unique_labels)\n",
        "        accuracy = np.diag(conf_matrix).sum() / conf_matrix.sum()\n",
        "\n",
        "        return {\n",
        "            \"Accuracy\": accuracy,\n",
        "            \"Macro Precision\": macro_precision,\n",
        "            \"Macro Recall\": macro_recall,\n",
        "            \"Macro F1 Score\": macro_f1\n",
        "        }\n"
      ],
      "metadata": {
        "id": "dkQcqhG8U1Pg"
      },
      "execution_count": 19,
      "outputs": []
    },
    {
      "cell_type": "code",
      "execution_count": 24,
      "metadata": {
        "id": "zjzCDTlAJbQa"
      },
      "outputs": [],
      "source": [
        "# Importing the GaussianNaiveBayes class (assuming it's a custom implementation or part of another library)\n",
        "model_gnb = GaussianNaiveBayes(X_train_pca, y_train_raw)\n",
        "\n",
        "# Fitting the Gaussian Naive Bayes model to the training data\n",
        "model_gnb.fit()\n"
      ]
    },
    {
      "cell_type": "code",
      "source": [
        "predictions = model_gnb.predict(X_test_pca)"
      ],
      "metadata": {
        "id": "g4zHfbs7ddbO"
      },
      "execution_count": 25,
      "outputs": []
    },
    {
      "cell_type": "code",
      "source": [
        "# Evaluate\n",
        "gnb_metrics = model_gnb.compute_metrics(y_test_raw, predictions)\n",
        "\n",
        "# Print overall metrics\n",
        "for metric, value in gnb_metrics.items():\n",
        "    print(f\"{metric}: {value:.4f}\")"
      ],
      "metadata": {
        "id": "pETr8iM7eTfK",
        "colab": {
          "base_uri": "https://localhost:8080/"
        },
        "outputId": "09f6cc02-f9d6-4fa6-e79d-d5b18e28bf2f"
      },
      "execution_count": 26,
      "outputs": [
        {
          "output_type": "stream",
          "name": "stdout",
          "text": [
            "Accuracy: 0.8018\n",
            "Macro Precision: 0.8089\n",
            "Macro Recall: 0.7960\n",
            "Macro F1 Score: 0.7974\n"
          ]
        }
      ]
    },
    {
      "cell_type": "markdown",
      "source": [
        "Advantages of using Gaussian Naives Bayes algorithm\n",
        "\n",
        "Assumption of Feature Independence: Gaussian Naive Bayes operates under the assumption that the features are independent of each other given the class label. This simplifies the computation, especially in cases where dealing with the full covariance matrix of the features is computationally infeasible.\n",
        "\n",
        "Gaussian Distribution of Features: If the features of your dataset are continuous and are assumed to follow a Gaussian (normal) distribution, Gaussian Naive Bayes is an appropriate model. It uses the mean and variance of each feature to estimate the probability distributions.\n",
        "\n",
        "Efficiency: This algorithm is known for its efficiency and speed, especially when working with large datasets. It can quickly make predictions after being trained, which is beneficial in time-sensitive applications.\n",
        "\n",
        "Good Baseline Model: Gaussian Naive Bayes often serves as a good baseline model. Due to its simplicity and speed, it's useful to initially apply it to the dataset and gauge its performance before moving on to more complex algorithms.\n",
        "\n",
        "Interpretability: Compared to more complex models like neural networks, Gaussian Naive Bayes is relatively interpretable. It's easier to understand the impact of feature values on the predictions made by the model.\n",
        "\n",
        "Handling of Missing Values: Naive Bayes classifiers can handle missing data. Features are treated independently, so missing values in one feature don't affect the computation for other features.\n",
        "\n",
        "Applicability in Multi-class Problems: Gaussian Naive Bayes can be easily extended to multi-class classification problems without any modifications to the underlying algorithm.\n",
        "\n",
        "Robustness to Irrelevant Features: Naive Bayes classifiers, in general, can be quite robust to the inclusion of irrelevant features because they just contribute to the evidence without swaying it disproportionately.\n",
        "\n",
        "Project-Specific Context: The algorithm may align well with the specific objectives or constraints of your project. For example, if the project aims to classify data where features are assumed to be normally distributed, Gaussian Naive Bayes becomes a suitable choice.\n",
        "\n",
        "Data Availability: Naive Bayes works well even with a small amount of data and doesn’t require a large dataset to achieve reasonable performance."
      ],
      "metadata": {
        "id": "INEi3XqWlPr_"
      }
    },
    {
      "cell_type": "markdown",
      "source": [
        "2. SOFTMAX LOGISTIC REGRESSION"
      ],
      "metadata": {
        "id": "wnwWR1Vr-bYO"
      }
    },
    {
      "cell_type": "markdown",
      "source": [
        "Applying softmax regression (also known as multinomial logistic regression) to the Human Activity Recognition project using smartphones is suitable because it is effective for multi-class classification problems. This algorithm can handle multiple classes seamlessly, which is crucial for differentiating various human activities like walking, sitting, and standing. Softmax regression is particularly adept at managing probabilities for each class, providing a more nuanced understanding than simple binary classification. Moreover, it works well with high-dimensional datasets, like those derived from smartphone sensors, ensuring robust performance even with complex input data."
      ],
      "metadata": {
        "id": "vsEftQwBpV9D"
      }
    },
    {
      "cell_type": "code",
      "source": [
        "class SoftmaxRegression:\n",
        "    \"\"\"\n",
        "    Softmax Regression classifier.\n",
        "    This classifier is a generalization of logistic regression to multiple classes.\n",
        "    \"\"\"\n",
        "\n",
        "    def __init__(self, learning_rate=0.01, tolerance=1e-4, max_iteration=1000):\n",
        "        \"\"\"\n",
        "        Initializes the SoftmaxRegression classifier with specified learning rate, tolerance, and maximum iterations.\n",
        "\n",
        "        Parameters:\n",
        "        learning_rate (float): The step size at each iteration while moving toward a minimum of the loss function.\n",
        "        tolerance (float): The stopping criterion for the loss improvement.\n",
        "        max_iteration (int): The maximum number of iterations for gradient descent.\n",
        "        \"\"\"\n",
        "        self.learning_rate = learning_rate\n",
        "        self.tolerance = tolerance\n",
        "        self.max_iteration = max_iteration\n",
        "\n",
        "    def softmax(self, z):\n",
        "        \"\"\"\n",
        "        Computes the softmax function for each row of the input array.\n",
        "\n",
        "        Parameters:\n",
        "        z (numpy array): The input data.\n",
        "\n",
        "        Returns:\n",
        "        numpy array: The softmax of input.\n",
        "        \"\"\"\n",
        "        exp_z = np.exp(z - np.max(z, axis=1, keepdims=True))\n",
        "        return exp_z / np.sum(exp_z, axis=1, keepdims=True)\n",
        "\n",
        "    def cross_entropy_loss(self, X, y_encoded, probabilities):\n",
        "        \"\"\"\n",
        "        Computes the cross-entropy loss.\n",
        "\n",
        "        Parameters:\n",
        "        X (numpy array): The input data.\n",
        "        y_encoded (numpy array): One-hot encoded target values.\n",
        "        probabilities (numpy array): The probabilities as predicted by softmax.\n",
        "\n",
        "        Returns:\n",
        "        float: The computed cross-entropy loss.\n",
        "        \"\"\"\n",
        "        m = X.shape[0]\n",
        "        loss = - (1 / m) * np.sum(y_encoded * np.log(probabilities))\n",
        "        return loss\n",
        "\n",
        "    def fit(self, X, y):\n",
        "        \"\"\"\n",
        "        Fits the Softmax Regression model to the training data.\n",
        "\n",
        "        Parameters:\n",
        "        X (numpy array): Training features.\n",
        "        y (numpy array): Training target values.\n",
        "        \"\"\"\n",
        "        # One-hot encoding of y\n",
        "        self.classes = np.unique(y)\n",
        "        y_encoded = self.one_hot_encode(y)\n",
        "\n",
        "        # Initialize weights\n",
        "        self.w = np.zeros((X.shape[1], len(self.classes)))\n",
        "\n",
        "        # Gradient descent\n",
        "        for _ in tqdm(range(self.max_iteration)):\n",
        "            # Compute softmax probabilities\n",
        "            probabilities = self.softmax(X.dot(self.w))\n",
        "\n",
        "            # Compute gradient\n",
        "            grad = X.T.dot(probabilities - y_encoded) / X.shape[0]\n",
        "\n",
        "            # Update weights\n",
        "            self.w -= self.learning_rate * grad\n",
        "\n",
        "            # Check for convergence\n",
        "            if np.linalg.norm(grad) < self.tolerance:\n",
        "                break\n",
        "\n",
        "    def predict(self, X):\n",
        "        \"\"\"\n",
        "        Predicts the class labels for the given dataset.\n",
        "\n",
        "        Parameters:\n",
        "        X (numpy array): Array of features to predict.\n",
        "\n",
        "        Returns:\n",
        "        numpy array: Predicted class labels.\n",
        "        \"\"\"\n",
        "        probabilities = self.softmax(X.dot(self.w))\n",
        "        return np.array([self.classes[i] for i in np.argmax(probabilities, axis=1)])\n",
        "\n",
        "    def one_hot_encode(self, y):\n",
        "        \"\"\"\n",
        "        One-hot encodes the target values.\n",
        "\n",
        "        Parameters:\n",
        "        y (numpy array or pandas Series/DataFrame): Target values.\n",
        "\n",
        "        Returns:\n",
        "        numpy array: One-hot encoded array.\n",
        "        \"\"\"\n",
        "        if isinstance(y, (pd.DataFrame, pd.Series)):\n",
        "            y = y.values\n",
        "\n",
        "        y = y.ravel()  # Flatten the array to make it 1D\n",
        "        y_encoded = np.zeros((y.size, len(self.classes)))\n",
        "        for i, class_ in enumerate(self.classes):\n",
        "            y_encoded[:, i] = (y == class_)\n",
        "        return y_encoded\n",
        "\n",
        "    def compute_metrics(self, y_true, y_pred):\n",
        "        \"\"\"\n",
        "        Computes and returns various classification metrics.\n",
        "\n",
        "        Parameters:\n",
        "        y_true (numpy array or pandas Series/DataFrame): True class labels.\n",
        "        y_pred (numpy array or pandas Series/DataFrame): Predicted class labels.\n",
        "\n",
        "        Returns:\n",
        "        dict: Dictionary containing accuracy, macro precision, recall, and F1 score.\n",
        "        \"\"\"\n",
        "        # Convert y_true and y_pred to numpy arrays for consistency\n",
        "        y_true = y_true.values.flatten() if isinstance(y_true, (pd.DataFrame, pd.Series)) else y_true.flatten()\n",
        "        y_pred = y_pred.values.flatten() if isinstance(y_pred, (pd.DataFrame, pd.Series)) else y_pred.flatten()\n",
        "\n",
        "        # Compute confusion matrix\n",
        "        unique_labels = np.unique(np.concatenate([y_true, y_pred]))\n",
        "        conf_matrix = np.zeros((len(unique_labels), len(unique_labels)), dtype=int)\n",
        "        label_to_index = {label: index for index, label in enumerate(unique_labels)}\n",
        "\n",
        "        for true, pred in zip(y_true, y_pred):\n",
        "            true_index = label_to_index[true]\n",
        "            pred_index = label_to_index[pred]\n",
        "            conf_matrix[true_index, pred_index] += 1\n",
        "\n",
        "        return self.calculate_overall_metrics(conf_matrix, unique_labels)\n",
        "\n",
        "    def calculate_overall_metrics(self, conf_matrix, unique_labels):\n",
        "        \"\"\"\n",
        "        Helper method to calculate overall metrics from the confusion matrix.\n",
        "\n",
        "        Parameters:\n",
        "        conf_matrix (numpy array): Confusion matrix.\n",
        "        unique_labels (numpy array): Array of unique labels.\n",
        "\n",
        "        Returns:\n",
        "        dict: Dictionary containing accuracy, macro precision, recall, and F1 score.\n",
        "        \"\"\"\n",
        "        sum_precision = 0\n",
        "        sum_recall = 0\n",
        "        sum_f1 = 0\n",
        "\n",
        "        for i in range(len(unique_labels)):\n",
        "            TP = conf_matrix[i, i]\n",
        "            FP = conf_matrix[:, i].sum() - TP\n",
        "            FN = conf_matrix[i, :].sum() - TP\n",
        "\n",
        "            Precision = TP / (TP + FP) if (TP + FP) != 0 else 0\n",
        "            Recall = TP / (TP + FN) if (TP + FN) != 0 else 0\n",
        "            F1_score = 2 * (Precision * Recall) / (Precision + Recall) if (Precision + Recall) != 0 else 0\n",
        "\n",
        "            sum_precision += Precision\n",
        "            sum_recall += Recall\n",
        "            sum_f1 += F1_score\n",
        "\n",
        "        macro_precision = sum_precision / len(unique_labels)\n",
        "        macro_recall = sum_recall / len(unique_labels)\n",
        "        macro_f1 = sum_f1 / len(unique_labels)\n",
        "        accuracy = np.diag(conf_matrix).sum() / conf_matrix.sum()\n",
        "\n",
        "        return {\n",
        "            \"Accuracy\": accuracy,\n",
        "            \"Macro Precision\": macro_precision,\n",
        "            \"Macro Recall\": macro_recall,\n",
        "            \"Macro F1 Score\": macro_f1\n",
        "        }\n"
      ],
      "metadata": {
        "id": "iep8WppTnDmZ"
      },
      "execution_count": 27,
      "outputs": []
    },
    {
      "cell_type": "markdown",
      "source": [
        "Explanation of the Process:\n",
        "\n",
        "Initialization (__init__): The classifier is initialized with hyperparameters like learning rate, tolerance, and maximum iterations for the gradient descent optimizer.\n",
        "\n",
        "Softmax Function (softmax): This function applies the softmax activation to compute class probabilities, necessary for multi-class classification.\n",
        "\n",
        "Cross-Entropy Loss (cross_entropy_loss): Computes the loss function, which is essential in evaluating and optimizing the model.\n",
        "\n",
        "Model Fitting (fit): The main function for training the model using gradient descent. It involves computing the gradient of the loss function with respect to the model's weights and updating these weights iteratively.\n",
        "\n",
        "Prediction (predict): After the model is trained, this function is used for making predictions on new data.\n",
        "\n",
        "One-Hot Encoding (one_hot_encode): This is a preprocessing step to convert categorical class labels into a format suitable for Softmax Regression.\n",
        "\n",
        "Metric Computation (compute_metrics and calculate_overall_metrics): These methods are used for evaluating the model's performance by calculating metrics like accuracy, precision, recall, and F1 score."
      ],
      "metadata": {
        "id": "78oajXtTnK9Y"
      }
    },
    {
      "cell_type": "code",
      "source": [
        "# Create an instance of the SoftmaxRegression class\n",
        "smr_model = SoftmaxRegression(learning_rate=0.01, tolerance=1e-4, max_iteration=1000)\n",
        "\"\"\"\n",
        "smr_model: An instance of the SoftmaxRegression class.\n",
        "learning_rate: Set to 0.01, which controls the step size during the gradient descent optimization.\n",
        "tolerance: Set to 1e-4, which is the threshold for stopping the training process if the improvement in loss falls below this value.\n",
        "max_iteration: Set to 1000, which is the maximum number of iterations for the gradient descent optimizer.\n",
        "\"\"\"\n",
        "\n",
        "# Train the model using the provided training data\n",
        "smr_model.fit(X_train_pca, y_train_raw)\n",
        "\"\"\"\n",
        "The fit method of the smr_model is called with X_train_pca and y_train_raw as arguments.\n",
        "X_train_pca: The input features for the model, which are assumed to be preprocessed with PCA (Principal Component Analysis).\n",
        "y_train_raw: The target labels for the training data.\n",
        "This method will perform the training process using gradient descent, optimizing the model's weights based on the input data.\n",
        "\"\"\""
      ],
      "metadata": {
        "colab": {
          "base_uri": "https://localhost:8080/",
          "height": 90
        },
        "id": "h3EUyV7i4WB5",
        "outputId": "1c0da126-ad87-4aab-e7fc-6ff65a32f6b2"
      },
      "execution_count": 28,
      "outputs": [
        {
          "output_type": "stream",
          "name": "stderr",
          "text": [
            "100%|██████████| 1000/1000 [00:10<00:00, 94.26it/s]\n"
          ]
        },
        {
          "output_type": "execute_result",
          "data": {
            "text/plain": [
              "\"\\nThe fit method of the smr_model is called with X_train_pca and y_train_raw as arguments.\\nX_train_pca: The input features for the model, which are assumed to be preprocessed with PCA (Principal Component Analysis).\\ny_train_raw: The target labels for the training data.\\nThis method will perform the training process using gradient descent, optimizing the model's weights based on the input data.\\n\""
            ],
            "application/vnd.google.colaboratory.intrinsic+json": {
              "type": "string"
            }
          },
          "metadata": {},
          "execution_count": 28
        }
      ]
    },
    {
      "cell_type": "code",
      "source": [
        "y_pred_smr = smr_model.predict(X_test_pca)\n",
        "metrics_smr = smr_model.compute_metrics(y_test_raw, y_pred_smr) # Compute the evaluation metrics for the model based on its predictions\n",
        "print(metrics_smr)"
      ],
      "metadata": {
        "colab": {
          "base_uri": "https://localhost:8080/"
        },
        "id": "j7hyhiLMK3i4",
        "outputId": "8a956d2d-23e8-47b3-eb03-ab4e5457e763"
      },
      "execution_count": 29,
      "outputs": [
        {
          "output_type": "stream",
          "name": "stdout",
          "text": [
            "{'Accuracy': 0.9426535459789617, 'Macro Precision': 0.9424782590110062, 'Macro Recall': 0.942143792737112, 'Macro F1 Score': 0.9422141985901069}\n"
          ]
        }
      ]
    },
    {
      "cell_type": "markdown",
      "source": [
        "3. Neural Networks"
      ],
      "metadata": {
        "id": "FHsja19eCUw1"
      }
    },
    {
      "cell_type": "markdown",
      "source": [
        "Applying a neural network algorithm to the Human Activity Recognition project using smartphones is suitable due to its ability to learn complex patterns in high-dimensional data. Neural networks excel in feature extraction, meaning they can automatically detect and utilize intricate patterns from raw sensor data, which is crucial for accurately identifying diverse human activities. Furthermore, their flexible architecture allows for customization and optimization to improve performance on the specific types of data generated by smartphone sensors. This makes neural networks a powerful tool for handling the complexity and variability inherent in human activity recognition tasks."
      ],
      "metadata": {
        "id": "Z7_nLSxFrVXx"
      }
    },
    {
      "cell_type": "code",
      "source": [
        "import tensorflow as tf\n",
        "from tensorflow.keras.models import Sequential\n",
        "from tensorflow.keras.layers import Dense, Dropout\n",
        "from sklearn.preprocessing import StandardScaler\n",
        "from tensorflow.keras.utils import to_categorical\n",
        "from sklearn.metrics import classification_report, confusion_matrix\n",
        "import numpy as np\n",
        "\n",
        "# Count the number of unique classes in the training data\n",
        "num_classes = len(np.unique(y_train_raw))\n",
        "\n",
        "# Adjust class labels to start from 0 for compatibility with to_categorical\n",
        "y_train_raw_zero_indexed = y_train_raw - y_train_raw.min()\n",
        "y_val_raw_zero_indexed = y_test_raw - y_test_raw.min()\n",
        "\n",
        "# Convert class labels to one-hot encoded format\n",
        "y_train_encoded = to_categorical(y_train_raw_zero_indexed, num_classes)\n",
        "y_val_encoded = to_categorical(y_val_raw_zero_indexed, num_classes)\n",
        "\n",
        "# Define the neural network structure\n",
        "model = Sequential()\n",
        "model.add(Dense(64, input_shape=(X_train_pca.shape[1],), activation='relu'))\n",
        "model.add(Dropout(0.5))  # Dropout to prevent overfitting\n",
        "model.add(Dense(32, activation='relu'))\n",
        "model.add(Dropout(0.5))\n",
        "model.add(Dense(num_classes, activation='softmax'))  # Output layer for multi-class classification\n",
        "\n",
        "# Compile the model with loss function and optimizer\n",
        "model.compile(loss='categorical_crossentropy', optimizer='adam', metrics=['accuracy'])\n",
        "\n",
        "# Train the model with training data\n",
        "model.fit(X_train_pca, y_train_encoded, epochs=10, batch_size=32)\n",
        "\n",
        "# Make predictions on the test data\n",
        "y_pred = model.predict(X_test_pca)\n",
        "y_pred_classes = np.argmax(y_pred, axis=1)  # Convert predicted probabilities to class labels\n",
        "\n",
        "# Print the classification report and confusion matrix\n",
        "print(classification_report(y_test_raw, y_pred_classes))\n",
        "print(confusion_matrix(y_test_raw, y_pred_classes))\n"
      ],
      "metadata": {
        "colab": {
          "base_uri": "https://localhost:8080/"
        },
        "id": "_ewHkUMMCV9u",
        "outputId": "5be6a1ba-0667-433a-e729-3cb86ac255c0"
      },
      "execution_count": 30,
      "outputs": [
        {
          "output_type": "stream",
          "name": "stdout",
          "text": [
            "Epoch 1/10\n",
            "230/230 [==============================] - 2s 3ms/step - loss: 1.8238 - accuracy: 0.3969\n",
            "Epoch 2/10\n",
            "230/230 [==============================] - 1s 3ms/step - loss: 0.8903 - accuracy: 0.6319\n",
            "Epoch 3/10\n",
            "230/230 [==============================] - 1s 3ms/step - loss: 0.6126 - accuracy: 0.7511\n",
            "Epoch 4/10\n",
            "230/230 [==============================] - 1s 3ms/step - loss: 0.4718 - accuracy: 0.8126\n",
            "Epoch 5/10\n",
            "230/230 [==============================] - 1s 3ms/step - loss: 0.3697 - accuracy: 0.8521\n",
            "Epoch 6/10\n",
            "230/230 [==============================] - 1s 3ms/step - loss: 0.3111 - accuracy: 0.8766\n",
            "Epoch 7/10\n",
            "230/230 [==============================] - 1s 2ms/step - loss: 0.2613 - accuracy: 0.8977\n",
            "Epoch 8/10\n",
            "230/230 [==============================] - 0s 2ms/step - loss: 0.2499 - accuracy: 0.9089\n",
            "Epoch 9/10\n",
            "230/230 [==============================] - 0s 2ms/step - loss: 0.2296 - accuracy: 0.9139\n",
            "Epoch 10/10\n",
            "230/230 [==============================] - 0s 2ms/step - loss: 0.1922 - accuracy: 0.9286\n",
            "93/93 [==============================] - 0s 2ms/step\n",
            "              precision    recall  f1-score   support\n",
            "\n",
            "           0       0.98      0.96      0.97       496\n",
            "           1       0.96      0.95      0.95       471\n",
            "           2       0.93      0.97      0.95       420\n",
            "           3       0.92      0.87      0.89       491\n",
            "           4       0.89      0.93      0.91       532\n",
            "           5       1.00      1.00      1.00       537\n",
            "\n",
            "    accuracy                           0.94      2947\n",
            "   macro avg       0.94      0.94      0.94      2947\n",
            "weighted avg       0.94      0.94      0.94      2947\n",
            "\n",
            "[[474   6  16   0   0   0]\n",
            " [  8 447  15   0   1   0]\n",
            " [  2  12 406   0   0   0]\n",
            " [  0   1   0 426  62   2]\n",
            " [  0   0   0  39 493   0]\n",
            " [  0   0   0   0   0 537]]\n"
          ]
        }
      ]
    },
    {
      "cell_type": "markdown",
      "source": [
        "Explanation:\n",
        "\n",
        "Data Preparation: The number of unique classes is determined and class labels are zero-indexed for compatibility with the one-hot encoding format.\n",
        "\n",
        "Model Definition: A sequential neural network model is defined, consisting of dense layers with ReLU activation and dropout layers to prevent overfitting.\n",
        "\n",
        "Model Compilation: The model is compiled with categorical cross-entropy loss (suitable for multi-class classification) and the Adam optimizer.\n",
        "\n",
        "Training: The model is trained on the PCA-transformed training data (X_train_pca) and one-hot encoded labels (y_train_encoded) for a specified number of epochs.\n",
        "\n",
        "Prediction: Predictions are made on the PCA-transformed test data (X_test_pca), and softmax probabilities are converted to class labels.\n",
        "\n",
        "Evaluation: Finally, the model's performance is evaluated using a classification report and a confusion matrix, comparing the predicted labels with the actual test labels (y_test_raw)."
      ],
      "metadata": {
        "id": "2CeJ9ejOoz5C"
      }
    },
    {
      "cell_type": "code",
      "source": [
        "# Assuming model_gnb is your trained Gaussian Naive Bayes model\n",
        "y_pred_gnb = model_gnb.predict(X_test_pca)"
      ],
      "metadata": {
        "id": "dIMpwMZfBR4c"
      },
      "execution_count": 31,
      "outputs": []
    },
    {
      "cell_type": "code",
      "source": [
        "# Ensure class labels start from 0 (zero-indexing)\n",
        "# Adjust this as necessary based on your label format\n",
        "y_test_raw_zero_indexed = y_test_raw - y_test_raw.min()\n"
      ],
      "metadata": {
        "id": "Z687rLvPBibK"
      },
      "execution_count": 32,
      "outputs": []
    },
    {
      "cell_type": "code",
      "source": [
        "from sklearn.metrics import accuracy_score, precision_recall_fscore_support\n",
        "\n",
        "def calculate_and_display_metrics(y_true, y_pred, model_name):\n",
        "    accuracy = accuracy_score(y_true, y_pred) * 100\n",
        "    precision, recall, f1, _ = precision_recall_fscore_support(y_true, y_pred, average='macro')\n",
        "    precision *= 100\n",
        "    recall *= 100\n",
        "    f1 *= 100\n",
        "\n",
        "    print(f\"Metrics for {model_name}:\")\n",
        "    print(f\"Accuracy: {accuracy:.2f}%\")\n",
        "    print(f\"Precision: {precision:.2f}%\")\n",
        "    print(f\"Recall: {recall:.2f}%\")\n",
        "    print(f\"F1 Score: {f1:.2f}%\")\n",
        "    print(\"\\n\")\n",
        "\n",
        "# Assuming y_test_raw is your true labels and y_pred_gnb, y_pred_smr, y_pred_nn are the predicted labels from the respective models\n",
        "calculate_and_display_metrics(y_test_raw, y_pred_gnb, \"Gaussian Naive Bayes\")\n",
        "calculate_and_display_metrics(y_test_raw, y_pred_smr, \"Softmax Regression\")\n",
        "# For neural network, since y_pred_nn is in one-hot encoded form\n",
        "calculate_and_display_metrics(y_test_raw_zero_indexed, y_pred_classes, \"Neural Network\")\n"
      ],
      "metadata": {
        "colab": {
          "base_uri": "https://localhost:8080/"
        },
        "id": "gmbuiPeKB5gA",
        "outputId": "fd851c65-66a8-4feb-93ae-390519c045d6"
      },
      "execution_count": 33,
      "outputs": [
        {
          "output_type": "stream",
          "name": "stdout",
          "text": [
            "Metrics for Gaussian Naive Bayes:\n",
            "Accuracy: 80.18%\n",
            "Precision: 80.89%\n",
            "Recall: 79.60%\n",
            "F1 Score: 79.74%\n",
            "\n",
            "\n",
            "Metrics for Softmax Regression:\n",
            "Accuracy: 94.27%\n",
            "Precision: 94.25%\n",
            "Recall: 94.21%\n",
            "F1 Score: 94.22%\n",
            "\n",
            "\n",
            "Metrics for Neural Network:\n",
            "Accuracy: 94.44%\n",
            "Precision: 94.45%\n",
            "Recall: 94.43%\n",
            "F1 Score: 94.41%\n",
            "\n",
            "\n"
          ]
        }
      ]
    },
    {
      "cell_type": "markdown",
      "source": [
        "Analyzing the cost implications of the metrics for the Gaussian Naive Bayes, Softmax Regression, and Neural Network models:\n",
        "\n",
        "1. Accuracy\n",
        "\n",
        "Definition: The proportion of true results (both true positives and true negatives) among the total number of cases examined.\n",
        "\n",
        "Interpretation:\n",
        "\n",
        "Gaussian Naive Bayes: 80.18% of the predictions are correct.\n",
        "\n",
        "Softmax Regression: 94.27% of the predictions are correct.\n",
        "\n",
        "Neural Network: 93.86% of the predictions are correct.\n",
        "\n",
        "Cost Implications: Higher accuracy generally indicates a more reliable model, potentially leading to lower costs associated with misclassifications. However, in specific contexts, a model with lower accuracy but better performance in other metrics might be preferable.\n",
        "\n",
        "2. Precision\n",
        "\n",
        "Definition: The proportion of positive identifications that were actually correct.\n",
        "\n",
        "Interpretation:\n",
        "\n",
        "Gaussian Naive Bayes: 80.89% of the instances predicted as positive are actually positive.\n",
        "\n",
        "Softmax Regression: 94.25% precision indicates a high level of reliability in the positive predictions.\n",
        "\n",
        "Neural Network: 93.82% precision also indicates high reliability.\n",
        "\n",
        "Cost Implications: High precision is crucial in scenarios where false positives have high costs (e.g., medical diagnosis, spam detection). Lower precision might lead to higher costs due to unnecessary follow-up actions or treatments.\n",
        "\n",
        "3. Recall\n",
        "\n",
        "Definition: The proportion of actual positives that were identified correctly.\n",
        "\n",
        "Interpretation:\n",
        "\n",
        "Gaussian Naive Bayes: It identifies 79.60% of all actual positive instances.\n",
        "Softmax Regression and Neural Network: Both have high recall (>93%), meaning they are good at catching positive cases.\n",
        "\n",
        "Cost Implications: In contexts where missing a positive case is costly (e.g., fraud detection), high recall is desired. Low recall might result in higher costs due to missed opportunities or risks.\n",
        "\n",
        "4. F1 Score\n",
        "\n",
        "Definition: A measure that combines precision and recall. It is the harmonic mean of precision and recall.\n",
        "\n",
        "Interpretation:\n",
        "\n",
        "All models have high F1 scores, indicating a good balance between precision and recall.\n",
        "\n",
        "Cost Implications: A high F1 score is often more informative than accuracy, especially in imbalanced datasets. It implies a balanced model in terms of type I (false positive) and type II (false negative) errors.\n",
        "\n",
        "Overall Cost Considerations\n",
        "\n",
        "Softmax Regression and Neural Network show similar and superior performance across all metrics compared to Gaussian Naive Bayes.\n",
        "\n",
        "Choosing the Best Model: Depends on the specific costs associated with false positives and false negatives in your application.\n",
        "\n",
        "If false negatives are very costly (e.g., failing to detect a serious disease), prioritize recall.\n",
        "\n",
        "If false positives are more costly (e.g., falsely flagging a transaction as fraudulent), prioritize precision.\n",
        "\n",
        "If both types of errors have similar costs, F1 score can be a good overall metric.\n",
        "\n",
        "Additional Factors\n",
        "\n",
        "Model Complexity and Resources: More complex models (like Neural Networks) might require more computational resources, potentially increasing operational costs.\n",
        "\n",
        "Maintenance and Scalability: Consider the cost of maintaining and updating the model, especially if data patterns change over time.\n",
        "\n",
        "Interpretability: In some scenarios, the ability to interpret and explain model decisions (easier in simpler models like Gaussian Naive Bayes) is crucial and can influence the overall cost of using the model.\n",
        "\n",
        "In summary, while the metrics provide a quantitative measure of model performance, the cost analysis requires a qualitative understanding of the specific application domain and the implications of different types of errors."
      ],
      "metadata": {
        "id": "D-Pk8hqlEVeX"
      }
    },
    {
      "cell_type": "code",
      "source": [
        "from sklearn.metrics import confusion_matrix\n",
        "\n",
        "def model_cost_analysis_multiclass(y_true, y_pred, cost_fp, cost_fn):\n",
        "    # Generate the confusion matrix\n",
        "    cm = confusion_matrix(y_true, y_pred)\n",
        "\n",
        "    # Summing false positives and false negatives across all classes\n",
        "    fp = cm.sum(axis=0) - np.diag(cm)\n",
        "    fn = cm.sum(axis=1) - np.diag(cm)\n",
        "\n",
        "    # Calculate total cost\n",
        "    total_cost = np.sum(fp * cost_fp + fn * cost_fn)\n",
        "\n",
        "    return total_cost\n",
        "\n",
        "# Example costs\n",
        "cost_fp = 20  # Example cost of a false positive\n",
        "cost_fn = 30  # Example cost of a false negative\n",
        "\n",
        "# Calculate costs for each model\n",
        "cost_gnb = model_cost_analysis_multiclass(y_test_raw, y_pred_gnb, cost_fp, cost_fn)\n",
        "cost_smr = model_cost_analysis_multiclass(y_test_raw, y_pred_smr, cost_fp, cost_fn)\n",
        "cost_nn = model_cost_analysis_multiclass(y_test_raw, y_pred_classes, cost_fp, cost_fn)\n",
        "\n",
        "# Print total costs\n",
        "print(f\"Total Cost for Gaussian Naive Bayes: ${cost_gnb}\")\n",
        "print(f\"Total Cost for Softmax Regression: ${cost_smr}\")\n",
        "print(f\"Total Cost for Neural Network: ${cost_nn}\")\n"
      ],
      "metadata": {
        "colab": {
          "base_uri": "https://localhost:8080/"
        },
        "id": "bDoREm4QFUtq",
        "outputId": "65d3dac9-0181-40dd-9589-82a61fb60a58"
      },
      "execution_count": 34,
      "outputs": [
        {
          "output_type": "stream",
          "name": "stdout",
          "text": [
            "Total Cost for Gaussian Naive Bayes: $29200\n",
            "Total Cost for Softmax Regression: $8450\n",
            "Total Cost for Neural Network: $8200\n"
          ]
        }
      ]
    },
    {
      "cell_type": "markdown",
      "source": [
        "When integrating machine learning models into business operations, the choice of the model significantly impacts both performance and cost. Here's a concise comparison of Gaussian Naive Bayes, Softmax Regression, and Neural Networks in terms of their implementation and maintenance costs:\n",
        "\n",
        "\n",
        "Gaussian Naive Bayes\n",
        "\n",
        "Cost: Low\n",
        "\n",
        "Efficiency: High\n",
        "\n",
        "Complexity: Low\n",
        "\n",
        "Use Cases: Ideal for simpler tasks where model interpretability and quick, efficient execution are priorities.\n",
        "\n",
        "Explanation: Gaussian Naive Bayes models are computationally efficient and easy to implement, making them a cost-effective choice for smaller datasets and less complex problem domains. Their simplicity also ensures low maintenance costs.\n",
        "\n",
        "Softmax Regression\n",
        "\n",
        "Cost: Moderate\n",
        "\n",
        "Efficiency: Moderate to High\n",
        "\n",
        "Complexity: Moderate\n",
        "\n",
        "Use Cases: Suited for medium-sized datasets and problems where a linear decision boundary is adequate.\n",
        "\n",
        "Explanation: Softmax Regression, an extension of logistic regression for multiclass classification, offers a balance between performance and computational efficiency. It is more resource-intensive than Naive Bayes but still maintains moderate complexity, keeping implementation and maintenance costs reasonable.\n",
        "\n",
        "Neural Networks\n",
        "\n",
        "Cost: High\n",
        "\n",
        "Efficiency: Low (considering computational resources)\n",
        "\n",
        "Complexity: High\n",
        "\n",
        "Use Cases: Best for complex, large-scale applications where high accuracy is paramount.\n",
        "\n",
        "Explanation: Neural Networks, particularly deep learning models, require substantial computational resources and expertise for implementation and maintenance, leading to higher costs. They are well-suited for complex tasks and large datasets, where their higher cost is justified by significant gains in accuracy and performance.\n",
        "\n",
        "Summary\n",
        "\n",
        "Resource Allocation: Gaussian Naive Bayes and Softmax Regression are less resource-intensive and can be deployed quickly, making them suitable for projects with limited budgets or less complexity. Neural Networks, while offering advanced capabilities, demand considerable resources in terms of computational power and expert knowledge.\n",
        "\n",
        "Project Scope and Scale: The choice of model should align with the project's scale and complexity. For smaller projects or when interpretability is key, simpler models like Naive Bayes or Softmax Regression are advisable. For large-scale, complex problems where accuracy is crucial, the investment in Neural Networks may be warranted.\n",
        "\n",
        "In conclusion, the selection of a machine learning model in a business context should be driven by a balance between the required performance, available resources, complexity of the task, and cost considerations. This decision is crucial for ensuring not only the effectiveness of the model but also its economic viability within the project's framework."
      ],
      "metadata": {
        "id": "mq29PVoRKHXM"
      }
    },
    {
      "cell_type": "code",
      "source": [
        "!jupyter nbconvert --to html"
      ],
      "metadata": {
        "id": "dKnSrrRjnrBW"
      },
      "execution_count": null,
      "outputs": []
    }
  ],
  "metadata": {
    "colab": {
      "provenance": []
    },
    "kernelspec": {
      "display_name": "Python 3",
      "name": "python3"
    },
    "language_info": {
      "name": "python"
    }
  },
  "nbformat": 4,
  "nbformat_minor": 0
}